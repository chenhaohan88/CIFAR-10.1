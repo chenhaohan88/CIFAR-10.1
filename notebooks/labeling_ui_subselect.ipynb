{
 "cells": [
  {
   "cell_type": "markdown",
   "metadata": {},
   "source": [
    "# Subselect new labeled indices\n",
    "\n",
    "This notebook allows a second person to confirm the initial labelings and subselect a pool of labeled TinyImage indices.\n"
   ]
  },
  {
   "cell_type": "code",
   "execution_count": 19,
   "metadata": {
    "scrolled": true
   },
   "outputs": [
    {
     "name": "stdout",
     "output_type": "stream",
     "text": [
      "The autoreload extension is already loaded. To reload it, use:\n",
      "  %reload_ext autoreload\n"
     ]
    }
   ],
   "source": [
    "%load_ext autoreload\n",
    "%autoreload 2\n",
    "\n",
    "import io\n",
    "import json\n",
    "import math\n",
    "import pickle\n",
    "import random\n",
    "import os\n",
    "import sys\n",
    "\n",
    "from IPython.display import display\n",
    "from ipywidgets import widgets\n",
    "import numpy as np\n",
    "import PIL.Image\n",
    "import tqdm\n",
    "\n",
    "repo_root = os.path.join(os.getcwd(), '../code')\n",
    "sys.path.append(repo_root)\n",
    "\n",
    "import cifar10\n",
    "import utils\n",
    "\n",
    "cifar = cifar10.CIFAR10Data('../other_data/cifar10')\n",
    "cifar_labels = cifar.all_labels\n",
    "\n",
    "version='6'\n",
    "\n",
    "if version == '4':\n",
    "    version_for_large_filenames= '4'\n",
    "    distances = utils.load_v4_distances_to_cifar10()\n",
    "elif version == '6':\n",
    "    distances = utils.load_v6_distances_to_cifar10()\n",
    "    version_for_large_filenames='6.1'\n",
    "    \n",
    "cifar10_by_keyword = utils.load_cifar10_by_keyword()\n",
    "\n",
    "with open('../other_data/tinyimage_large_dst_images_v{}.json'.format(version_for_large_filenames), 'r') as f:\n",
    "    all_new_imgs = json.load(f)\n",
    "with open('../other_data/tinyimage_large_dst_image_data_v{}.pickle'.format(version_for_large_filenames), 'rb') as f:\n",
    "    img_data = pickle.load(f)\n",
    "with open('../other_data/keyword_counts_v{}.json'.format(version), 'r') as f:\n",
    "    keyword_counts = json.load(f)\n",
    "with open('../other_data/cifar10_keywords.json') as f:\n",
    "    cifar10_keywords = json.load(f)\n"
   ]
  },
  {
   "cell_type": "markdown",
   "metadata": {},
   "source": [
    "## New labeled images\n",
    "Load initial pool of labeled indicies for given label and keyword"
   ]
  },
  {
   "cell_type": "code",
   "execution_count": 8,
   "metadata": {},
   "outputs": [
    {
     "name": "stdout",
     "output_type": "stream",
     "text": [
      "Keyword \"cruiser\" has 76 images in CIFAR-10 and 2511 unused images remaining in TinyImages.\n",
      "We need 2 image(s).\n",
      "There are currently 30 new selected images for this keyword.\n"
     ]
    }
   ],
   "source": [
    "label = 'automobile'\n",
    "keyword_name = 'cruiser'\n",
    "\n",
    "existing_cifar10_indices = cifar10_by_keyword[keyword_name]\n",
    "new_imgs = all_new_imgs[keyword_name]\n",
    "print('Keyword \"{}\" has {} images in CIFAR-10 and {} unused images remaining in TinyImages.'.format(\n",
    "    keyword_name, len(existing_cifar10_indices), len(new_imgs)))\n",
    "\n",
    "if version == '4':\n",
    "    count = keyword_counts[keyword_name]\n",
    "elif version == '6':\n",
    "    count = keyword_counts[label][keyword_name]\n",
    "print('We need {} image(s).'.format(count))\n",
    "\n",
    "\n",
    "with open('../other_data/tinyimage_good_indices.json', 'r') as f:\n",
    "    good_indices_dict = json.load(f)\n",
    "if keyword_name in good_indices_dict:    \n",
    "    initial_cur_good_indices = set(good_indices_dict[keyword_name])\n",
    "else:\n",
    "    print('Missing indices for keyword {}'.format(keyword_name))\n",
    "\n",
    "# Remove indices that correspond to images that have l2 distance <= threshold \n",
    "# with an existing image in CIFAR-10\n",
    "threshold=1000\n",
    "cur_good_indices = []\n",
    "for idx in initial_cur_good_indices:\n",
    "    cur_distance = distances[idx]\n",
    "    if cur_distance > threshold:\n",
    "        cur_good_indices.append(idx)\n",
    "cur_good_indices = set(cur_good_indices)\n",
    "print('There are currently {} new selected images for this keyword.'.format(len(cur_good_indices)))\n"
   ]
  },
  {
   "cell_type": "markdown",
   "metadata": {},
   "source": [
    "## Existing images"
   ]
  },
  {
   "cell_type": "code",
   "execution_count": 9,
   "metadata": {
    "scrolled": false
   },
   "outputs": [
    {
     "name": "stderr",
     "output_type": "stream",
     "text": [
      "Setting up image tabs: 100%|██████████| 2/2 [00:01<00:00,  1.33it/s]\n"
     ]
    },
    {
     "data": {
      "application/vnd.jupyter.widget-view+json": {
       "model_id": "131fd8176ca042bba3e1137e2722e1ff",
       "version_major": 2,
       "version_minor": 0
      },
      "text/plain": [
       "Tab(children=(VBox(children=(HBox(children=(VBox(children=(Image(value=b'\\x89PNG\\r\\n\\x1a\\n\\x00\\x00\\x00\\rIHDR\\x…"
      ]
     },
     "metadata": {},
     "output_type": "display_data"
    }
   ],
   "source": [
    "num_images_to_show = len(existing_cifar10_indices)\n",
    "num_cols = 8\n",
    "num_rows = 5\n",
    "num_per_tab = num_cols * num_rows\n",
    "num_tabs = int(math.ceil(num_images_to_show / num_per_tab))\n",
    "scale=3\n",
    "\n",
    "tab_contents = []\n",
    "for kk in tqdm.tqdm(range(num_tabs), desc='Setting up image tabs'):\n",
    "    rows = []\n",
    "    cur_num_rows = num_rows\n",
    "    if kk == num_tabs - 1:\n",
    "        cur_num_rows = int(math.ceil((num_images_to_show - (num_tabs - 1) * num_per_tab) / num_cols))\n",
    "    for ii in range(cur_num_rows):\n",
    "        cur_row = []\n",
    "        cur_num_cols = num_cols\n",
    "        if kk == num_tabs - 1 and ii == cur_num_rows - 1:\n",
    "            cur_num_cols = num_images_to_show - (num_tabs - 1) * num_per_tab - (cur_num_rows - 1) * num_cols\n",
    "        for jj in range(cur_num_cols):\n",
    "            cur_index = kk * num_per_tab + ii * num_cols + jj\n",
    "            cur_cifar10_index = existing_cifar10_indices[cur_index]\n",
    "            cur_img = widgets.Image(value=utils.np_to_png(cifar.all_images[cur_cifar10_index,:,:,:], scale=scale))\n",
    "            cur_label = widgets.Label(value=str(cur_cifar10_index))\n",
    "            cur_box = widgets.VBox([cur_img, cur_label])\n",
    "            cur_box.layout.align_items = 'center'\n",
    "            cur_box.layout.padding = '6px'\n",
    "            cur_row.append(cur_box)\n",
    "        cur_hbox = widgets.HBox(cur_row)\n",
    "        rows.append(cur_hbox)\n",
    "    tab_contents.append(widgets.VBox(rows))\n",
    "\n",
    "tab = widgets.Tab()\n",
    "tab.children = tab_contents\n",
    "for i in range(len(tab.children)):\n",
    "    tab.set_title(i, str(i))\n",
    "display(tab)"
   ]
  },
  {
   "cell_type": "markdown",
   "metadata": {},
   "source": [
    "## New images"
   ]
  },
  {
   "cell_type": "code",
   "execution_count": 11,
   "metadata": {
    "scrolled": false
   },
   "outputs": [
    {
     "name": "stderr",
     "output_type": "stream",
     "text": [
      "Setting up image tabs: 100%|██████████| 1/1 [00:00<00:00,  1.92it/s]\n"
     ]
    },
    {
     "data": {
      "application/vnd.jupyter.widget-view+json": {
       "model_id": "66920c12bbf64ed68516f6c16874b852",
       "version_major": 2,
       "version_minor": 0
      },
      "text/plain": [
       "Tab(children=(VBox(children=(HBox(children=(VBox(children=(Image(value=b'\\x89PNG\\r\\n\\x1a\\n\\x00\\x00\\x00\\rIHDR\\x…"
      ]
     },
     "metadata": {},
     "output_type": "display_data"
    }
   ],
   "source": [
    "num_images_to_show = len(cur_good_indices)\n",
    "img_offset = 0\n",
    "\n",
    "assert img_offset >= 0 and img_offset < len(new_imgs)\n",
    "num_images_to_show = min(num_images_to_show, len(new_imgs) - img_offset)\n",
    "num_cols = 8\n",
    "num_rows = 13\n",
    "num_per_tab = num_cols * num_rows\n",
    "num_tabs = int(math.ceil(num_images_to_show / num_per_tab))\n",
    "scale=3\n",
    "\n",
    "checkboxes = {}\n",
    "\n",
    "tab_contents = []\n",
    "for kk in tqdm.tqdm(range(num_tabs), desc='Setting up image tabs'):\n",
    "    rows = []\n",
    "    cur_num_rows = num_rows\n",
    "    if kk == num_tabs - 1:\n",
    "        cur_num_rows = int(math.ceil((num_images_to_show - (num_tabs - 1) * num_per_tab) / num_cols))\n",
    "    for ii in range(cur_num_rows):\n",
    "        cur_row = []\n",
    "        cur_num_cols = num_cols\n",
    "        if kk == num_tabs - 1 and ii == cur_num_rows - 1:\n",
    "            cur_num_cols = num_images_to_show - (num_tabs - 1) * num_per_tab - (cur_num_rows - 1) * num_cols\n",
    "        for jj in range(cur_num_cols):\n",
    "            cur_index = img_offset + kk * num_per_tab + ii * num_cols + jj\n",
    "            #cur_ti_index = new_imgs[cur_index]['tinyimage_index']\n",
    "            cur_ti_index = list(cur_good_indices)[cur_index]\n",
    "            cur_img = widgets.Image(value=utils.np_to_png(img_data[cur_ti_index], scale=scale))\n",
    "            cur_checkbox = widgets.Checkbox(cur_ti_index in cur_good_indices, description=str(cur_ti_index), indent=False, layout=widgets.Layout(width='100px', height='28')) #, description=str(ii * num_cols + jj))\n",
    "            cur_checkbox.width = '90px'\n",
    "            checkboxes[cur_ti_index] = cur_checkbox\n",
    "            cur_box = widgets.VBox([cur_img, cur_checkbox])\n",
    "            cur_box.layout.align_items = 'center'\n",
    "            cur_box.layout.padding = '6px'\n",
    "            cur_row.append(cur_box)\n",
    "        cur_hbox = widgets.HBox(cur_row)\n",
    "        rows.append(cur_hbox)\n",
    "    tab_contents.append(widgets.VBox(rows))\n",
    "\n",
    "tab = widgets.Tab()\n",
    "tab.children = tab_contents\n",
    "for i in range(len(tab.children)):\n",
    "    tab.set_title(i, str(i))\n",
    "display(tab)"
   ]
  },
  {
   "cell_type": "code",
   "execution_count": 12,
   "metadata": {
    "scrolled": true
   },
   "outputs": [
    {
     "name": "stdout",
     "output_type": "stream",
     "text": [
      "Now there now 30 selected images for keyword \"cruiser\".\n"
     ]
    }
   ],
   "source": [
    "for ti_index, box in checkboxes.items():\n",
    "    if box.value:\n",
    "        cur_good_indices.add(ti_index)\n",
    "    else:\n",
    "        cur_good_indices.discard(ti_index)\n",
    "good_indices_dict[keyword_name] = list(cur_good_indices)\n",
    "print('Now there now {} selected images for keyword \"{}\".'.format(len(cur_good_indices), keyword_name))\n",
    "with open('../other_data/tinyimage_good_indices_subselected_v{}.json'.format(version), 'w') as f:\n",
    "    json.dump(good_indices_dict, f, indent=2)"
   ]
  },
  {
   "cell_type": "markdown",
   "metadata": {
    "scrolled": true
   },
   "source": []
  }
 ],
 "metadata": {
  "kernelspec": {
   "display_name": "Python 3",
   "language": "python",
   "name": "python3"
  },
  "language_info": {
   "codemirror_mode": {
    "name": "ipython",
    "version": 3
   },
   "file_extension": ".py",
   "mimetype": "text/x-python",
   "name": "python",
   "nbconvert_exporter": "python",
   "pygments_lexer": "ipython3",
   "version": "3.6.4"
  }
 },
 "nbformat": 4,
 "nbformat_minor": 2
}
